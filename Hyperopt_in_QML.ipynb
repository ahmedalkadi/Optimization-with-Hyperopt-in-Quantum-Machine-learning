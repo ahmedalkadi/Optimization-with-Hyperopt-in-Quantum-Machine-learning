{
 "cells": [
  {
   "cell_type": "markdown",
   "metadata": {},
   "source": [
    "### Ahmed Osama Abdellatif Alkadi\n",
    "### Alexandria ITI"
   ]
  },
  {
   "cell_type": "markdown",
   "metadata": {},
   "source": [
    "."
   ]
  },
  {
   "cell_type": "markdown",
   "metadata": {},
   "source": [
    "\n",
    "\n",
    "\n",
    "\n",
    "\n",
    "## **Hyperopt: Distributed Asynchronous Hyper-parameter Optimization**\n",
    "\n",
    "1. **Intoduction:**\n",
    "- Hyperopt is a powerful Python library for hyperparameter optimization, particularly popular in the machine learning and data science communities. It offers an efficient and flexible framework for automatically tuning the hyperparameters of machine learning models, aiming to find the best configuration for a given optimization objective.\n",
    "\n",
    "2. **Key Objectives**\n",
    "- To use \"hyperopt\" optimizer to optimize an SVC Quantum machine learning problem.\n",
    "- To examine how the chosen parameters of optimization are effecting the results of the test and the accuracy.\n",
    "- To have insights about the ranges of the hyperparameters in the case of SVC QML\n",
    "\n",
    "2. **Algorithms:**\n",
    "- Random Search: This algorithm randomly samples hyperparameter configurations from the search space and evaluates them independently. While simple and easy to implement, random search may not be the most efficient method for finding optimal hyperparameters, especially in high-dimensional spaces.\n",
    "\n",
    "- Tree-structured Parzen Estimator (TPE): TPE is a Bayesian optimization algorithm that models the objective function and the distribution of hyperparameters using probability distributions. It iteratively refines these distributions based on observed performance, focusing the search on promising regions of the hyperparameter space.\n",
    "\n",
    "- Adaptive TPE (ATPE): This variant of TPE adapts the search space dynamically during optimization based on the performance of previously evaluated configurations. It aims to allocate more samples to promising regions of the search space, potentially improving the convergence speed.\n",
    "\n",
    "3. **Other Features:**\n",
    "- One of the key advantages of Hyperopt is its ability to handle both discrete and continuous hyperparameters, as well as conditional hyperparameter spaces. This flexibility allows it to efficiently explore a wide range of hyperparameter configurations, making it suitable for various machine learning tasks.\n",
    "\n",
    "\n",
    "- you can find more information here\n",
    " https://hyperopt.github.io/hyperopt/\n",
    "\n",
    "- how to write an objective function in \"hyperopt\" \n",
    "https://github.com/hyperopt/hyperopt/wiki/FMin\n",
    "\n"
   ]
  },
  {
   "cell_type": "markdown",
   "metadata": {},
   "source": [
    "## Pramameters to optimize \n",
    "\n",
    "In this study an optimization for the following parameters was carried out.\n",
    "\n",
    "- rep: This parameter represents the number of repetitions for the feature map used in the quantum kernel. It determines the complexity or richness of the feature map, which can impact the expressiveness of the quantum model. Optimizing this parameter allows finding the optimal trade-off between model complexity and generalization performance.\n",
    "\n",
    "- c: This parameter is the regularization parameter for the Support Vector Classifier (SVC) used in the classical part of the hybrid quantum-classical model. Regularization helps prevent overfitting by penalizing large coefficients in the decision function. Optimizing this parameter ensures the model's ability to generalize well to unseen data.\n",
    "\n",
    "- entangle: This parameter specifies the type of entanglement used in the feature map of the quantum kernel. Entanglement is a fundamental property of quantum systems and can affect the quantum circuit's representation power. By optimizing this parameter, the most suitable type of entanglement for the given task can be determined, potentially improving model performance.\n",
    "\n",
    "- shots: This parameter denotes the number of shots (measurement repetitions) for executing quantum circuits on a quantum device or simulator. More shots can lead to more accurate results but also require more computational resources. Optimizing this parameter involves finding the balance between the accuracy of quantum measurements and the computational cost, ensuring efficient utilization of resources."
   ]
  },
  {
   "cell_type": "markdown",
   "metadata": {},
   "source": [
    "### Import libraries"
   ]
  },
  {
   "cell_type": "code",
   "execution_count": 131,
   "metadata": {},
   "outputs": [],
   "source": [
    "\n",
    "import numpy as np\n",
    "import matplotlib.pyplot as plt\n",
    "import pandas as pd\n",
    "from sklearn import model_selection\n",
    "from sklearn.svm import SVC\n",
    "from qiskit import *\n",
    "from qiskit.circuit.library import *\n",
    "from qiskit.primitives import Sampler\n",
    "from qiskit_machine_learning.kernels import FidelityQuantumKernel\n",
    "from qiskit_machine_learning.algorithms import *\n",
    "from qiskit_machine_learning.kernels import *\n",
    "from qiskit_algorithms.state_fidelities import ComputeUncompute\n",
    "from qiskit_algorithms.utils import algorithm_globals\n",
    "from hyperopt import hp, tpe, Trials, fmin ,space_eval\n",
    "\n",
    "seed = 12345\n",
    "np.random.seed(seed)\n",
    "algorithm_globals.random_seed = seed\n"
   ]
  },
  {
   "cell_type": "markdown",
   "metadata": {},
   "source": [
    "### Generates synthetic ad-hoc datasets with specified characteristics."
   ]
  },
  {
   "cell_type": "markdown",
   "metadata": {},
   "source": [
    "\n",
    "- Purpose: This function is particularly useful for generating synthetic datasets with specific characteristics, such as dimensionality, class separability, and sample sizes, which can be used for experimentation and testing in machine learning tasks.\n",
    "\n",
    "- Returns:\n",
    "1. train_features: Features of the training dataset.\n",
    "2. train_labels: Labels of the training dataset.\n",
    "3. test_features: Features of the test dataset.\n",
    "4. test_labels: Labels of the test dataset.\n"
   ]
  },
  {
   "cell_type": "code",
   "execution_count": 132,
   "metadata": {},
   "outputs": [],
   "source": [
    "from qiskit_machine_learning.datasets import ad_hoc_data\n",
    "\n",
    "adhoc_dimension = 3\n",
    "train_features, train_labels, test_features, test_labels, adhoc_total = ad_hoc_data(\n",
    "    training_size=50,                    #The number of samples to generate for the training dataset.\n",
    "    test_size=20,                        #The number of samples to generate for the test dataset.\n",
    "    n=adhoc_dimension,                   #The dimensionality of the features in the dataset.\n",
    "    gap=0.25,                            #The gap between classes in the dataset, which helps control the separability of the classes.\n",
    "    plot_data=False,                     #A boolean flag to indicate whether to plot the generated dataset.\n",
    "    one_hot=False,                       #A boolean flag to indicate whether to use one-hot encoding for the labels.\n",
    "    include_sample_total=True,           #A boolean flag to indicate whether to include the total number of samples in the dataset.\n",
    ")"
   ]
  },
  {
   "cell_type": "markdown",
   "metadata": {},
   "source": [
    "### Implement the objective function for the optimization"
   ]
  },
  {
   "cell_type": "code",
   "execution_count": 133,
   "metadata": {},
   "outputs": [],
   "source": [
    "trials_info=[]  # Initialize an empty list to store information about each trial.\n",
    "\n",
    "def objective(params: dict) -> float: \n",
    "    \"\"\"\n",
    "    Objective function for hyperparameter optimization.\n",
    "    \n",
    "    Args:\n",
    "        params (dict): Dictionary containing the hyperparameters to be optimized.\n",
    "        \n",
    "    Returns:\n",
    "        float: Negative of the accuracy obtained by the model.\n",
    "    \"\"\"\n",
    "    \n",
    "    # Extract hyperparameters from the parameter dictionary.\n",
    "    rep = int(params['rep'])  # Number of repetitions for the feature map.\n",
    "    c = params['C']           # Regularization parameter for the SVC.\n",
    "    entangle = params['entanglement']  # Type of entanglement in the feature map.\n",
    "    shots = params['shots']   # Number of shots for executing quantum circuits.\n",
    "    \n",
    "    # Calculate the number of qubits based on the dimensionality of the training features.\n",
    "    num_qubits = train_features.shape[1]\n",
    "    \n",
    "    # Create a feature map using the specified hyperparameters.\n",
    "    feature_map = ZZFeatureMap(feature_dimension=num_qubits, reps=rep, entanglement=entangle)\n",
    "    \n",
    "    # Create a sampler with the specified number of shots.\n",
    "    sampler = Sampler(options={\"shots\": shots})\n",
    "    \n",
    "    # Initialize a fidelity object for computing quantum state fidelities.\n",
    "    fidelity = ComputeUncompute(sampler=sampler)\n",
    "    \n",
    "    # Initialize a quantum kernel based on the fidelity and feature map.\n",
    "    adhoc_kernel = FidelityQuantumKernel(fidelity=fidelity, feature_map=feature_map)\n",
    "    \n",
    "    # Compute the Gram matrix for the training data using the quantum kernel.\n",
    "    gram_train = adhoc_kernel.evaluate(x_vec=train_features, y_vec=train_features)\n",
    "    \n",
    "    # Initialize a support vector classifier with a precomputed kernel.\n",
    "    classifier_obj = SVC(kernel=\"precomputed\", shrinking=True, C=c, random_state=seed)\n",
    "    \n",
    "    # Perform cross-validation to estimate the accuracy of the classifier.\n",
    "    score = model_selection.cross_val_score(classifier_obj, gram_train, train_labels, n_jobs=10, cv=5)\n",
    "    \n",
    "    # Compute the mean accuracy obtained from cross-validation.\n",
    "    accuracy = score.mean()\n",
    "    \n",
    "    # Store information about the current trial in the trials_info list.\n",
    "    trial_info = {'rep': rep, 'C': c, 'entanglement': entangle, 'shots': shots, 'accuracy': accuracy}\n",
    "    trials_info.append(trial_info)\n",
    "    \n",
    "    # Return the negative of the accuracy (as hyperopt minimizes the objective function).\n",
    "    return -accuracy\n"
   ]
  },
  {
   "cell_type": "markdown",
   "metadata": {},
   "source": [
    "### Space for hyperparameter\n",
    "- This cell defines a search space for hyperparameter optimization using the hyperopt library. Each hyperparameter is defined with a specific distribution or set of choices"
   ]
  },
  {
   "cell_type": "code",
   "execution_count": 134,
   "metadata": {},
   "outputs": [],
   "source": [
    "space = {\n",
    "    'rep': hp.quniform('rep', 1, 5, 1),                              # Number of repetitions for the feature map (uniformly distributed).\n",
    "    'C': hp.quniform('C', .1, 1000, 10),                             # Regularization parameter for SVC (uniformly distributed).\n",
    "    'entanglement': hp.choice('entanglement', [\"full\", \"linear\"]),   # Type of entanglement in the feature map (categorical choice).\n",
    "    'shots': hp.quniform('shots', 100, 1000, 10)                     # Number of shots for executing quantum circuits (uniformly distributed).\n",
    "}"
   ]
  },
  {
   "cell_type": "markdown",
   "metadata": {},
   "source": [
    "### Performs the optimization \n",
    "- This cell performs hyperparameter optimization using the hyperopt library. It uses the Trials object to keep track of the trials during optimization."
   ]
  },
  {
   "cell_type": "code",
   "execution_count": 135,
   "metadata": {},
   "outputs": [
    {
     "name": "stdout",
     "output_type": "stream",
     "text": [
      "100%|██████████| 20/20 [11:40<00:00, 35.02s/trial, best loss: -0.9199999999999999]\n"
     ]
    }
   ],
   "source": [
    "trials = Trials()              # Create an object to store information about each trial.\n",
    "best = fmin(fn=objective,      # fn=objective: Specifies the objective function to be optimized.\n",
    "            space=space,       # space=space: Specifies the search space defined earlier.\n",
    "            algo=tpe.suggest,  # algo=tpe.suggest: Specifies the optimization algorithm, which in this case is Tree Parzen Estimator (TPE).\n",
    "            max_evals=20,      # max_evals=20: Specifies the maximum number of evaluations or trials for the optimization process.\n",
    "            trials=trials,     # trials=trials: Passes the Trials object to store information about each trial during optimization.\n",
    "            )"
   ]
  },
  {
   "cell_type": "markdown",
   "metadata": {},
   "source": [
    "### Show the best results"
   ]
  },
  {
   "cell_type": "code",
   "execution_count": 152,
   "metadata": {},
   "outputs": [
    {
     "name": "stdout",
     "output_type": "stream",
     "text": [
      "The best hyperparameters are: {'C': 550.0, 'entanglement': 'full', 'rep': 2.0, 'shots': 600.0}\n"
     ]
    }
   ],
   "source": [
    " # the best hyperparameters found by the optimization process\n",
    "print(\"The best hyperparameters are:\",space_eval(space, best))"
   ]
  },
  {
   "cell_type": "markdown",
   "metadata": {},
   "source": [
    "### Run the optimized case"
   ]
  },
  {
   "cell_type": "code",
   "execution_count": 149,
   "metadata": {},
   "outputs": [
    {
     "name": "stdout",
     "output_type": "stream",
     "text": [
      "training accurcy 1.0\n",
      "test accurcy 1.0\n"
     ]
    }
   ],
   "source": [
    "# Convert 'rep' to integer from the best parameters obtained from hyperparameter optimization.\n",
    "rep = int(best['rep'])\n",
    "\n",
    "# Determine the number of qubits from the shape of the training features.\n",
    "num_qubits = train_features.shape[1]\n",
    "\n",
    "# Retrieve the best value for the regularization parameter 'C'.\n",
    "c = best['C']\n",
    "\n",
    "# Translate the encoded entanglement choice to its corresponding string value.\n",
    "entangle = [\"full\", \"linear\"][best['entanglement']]\n",
    "\n",
    "# Construct the feature map using the specified parameters.\n",
    "feature_map = ZZFeatureMap(feature_dimension=num_qubits, reps=rep, entanglement=entangle)\n",
    "\n",
    "# Set up the sampler with the optimal number of shots.\n",
    "sampler = Sampler(options={\"shots\": shots})\n",
    "\n",
    "# Initialize the fidelity computation method with the chosen sampler.\n",
    "fidelity = ComputeUncompute(sampler=sampler)\n",
    "\n",
    "# Create the fidelity-based quantum kernel using the feature map and fidelity method.\n",
    "adhoc_kernel = FidelityQuantumKernel(fidelity=fidelity, feature_map=feature_map)\n",
    "\n",
    "# Evaluate the quantum kernel on the training dataset.\n",
    "gram_train = adhoc_kernel.evaluate(x_vec=train_features, y_vec=train_features)\n",
    "\n",
    "# Evaluate the quantum kernel on the test dataset.\n",
    "gram_test = adhoc_kernel.evaluate(x_vec=test_features, y_vec=train_features)\n",
    "\n",
    "# Initialize the Support Vector Classifier (SVC) with the precomputed kernel.\n",
    "classifier_obj = SVC(kernel=\"precomputed\", shrinking=True, C=c, random_state=seed)\n",
    "\n",
    "# Fit the SVC model to the training data.\n",
    "classifier_obj.fit(gram_train, train_labels)\n",
    "\n",
    "# Calculate and print the training accuracy of the SVC model.\n",
    "print(\"Training accuracy:\", classifier_obj.score(gram_train, train_labels))\n",
    "\n",
    "# Calculate and print the test accuracy of the SVC model.\n",
    "print(\"Test accuracy:\", classifier_obj.score(gram_test, test_labels))\n"
   ]
  },
  {
   "cell_type": "markdown",
   "metadata": {},
   "source": [
    "### Define the parallel_coordinates_plot funtion \n",
    "- Hyperparameter Optimization VS Accuracy"
   ]
  },
  {
   "cell_type": "code",
   "execution_count": 160,
   "metadata": {},
   "outputs": [],
   "source": [
    "def draw_parallel_coordinates(trials_info: list):\n",
    "    \"\"\"\n",
    "    Draw a parallel coordinates plot based on the provided trials information.\n",
    "\n",
    "    Args:\n",
    "        trials_info (list): List of dictionaries containing information about each trial.\n",
    "\n",
    "    Returns:\n",
    "        None\n",
    "    \"\"\"\n",
    "\n",
    "    import plotly.express as px\n",
    "\n",
    "    # Convert the trials information into a DataFrame\n",
    "    df = pd.DataFrame(trials_info)\n",
    "\n",
    "    # Map 'entanglement' to numerical values (0 for 'linear', 1 for 'full')\n",
    "    df['Entanglement'] = df['entanglement'].map({'linear': 0, 'full': 1})\n",
    "\n",
    "    # Reorder the columns for better visualization\n",
    "    df = df[[\"rep\", \"C\", \"shots\", \"Entanglement\", \"accuracy\"]]\n",
    "\n",
    "    # Plotting parallel coordinates\n",
    "    fig = px.parallel_coordinates(df, color=\"accuracy\", labels={\"Entanglement\": \"Full Entanglement\"})\n",
    "\n",
    "    # Add annotation for 'linear Entanglement'\n",
    "    fig.add_annotation(\n",
    "        text=\"linear Entanglement\",  # Annotation text\n",
    "        xref=\"paper\", yref=\"paper\",  # Reference point for the text position\n",
    "        x=0.83, y=-0.15,  # Position of the annotation\n",
    "        showarrow=False,  # Hide the arrow\n",
    "        font=dict(\n",
    "            family=\"Arial\",\n",
    "            size=12,\n",
    "            color=\"black\"\n",
    "        ))\n",
    "\n",
    "    # Update layout with a title\n",
    "    fig.update_layout(title=\"Hyperparameter Optimization VS Accuracy\")\n",
    "\n",
    "    # Show the plot\n",
    "    fig.show()\n"
   ]
  },
  {
   "cell_type": "markdown",
   "metadata": {},
   "source": [
    "### Visualize and tracing of the accuracy while changing the values of the parameters"
   ]
  },
  {
   "cell_type": "code",
   "execution_count": 167,
   "metadata": {},
   "outputs": [
    {
     "data": {
      "application/vnd.plotly.v1+json": {
       "config": {
        "plotlyServerURL": "https://plot.ly"
       },
       "data": [
        {
         "dimensions": [
          {
           "label": "rep",
           "values": [
            3,
            3,
            3,
            3,
            2,
            4,
            3,
            2,
            4,
            2,
            3,
            3,
            2,
            5,
            4,
            5,
            3,
            4,
            5,
            3
           ]
          },
          {
           "label": "C",
           "values": [
            10,
            580,
            520,
            70,
            720,
            880,
            880,
            550,
            40,
            510,
            260,
            740,
            260,
            430,
            540,
            760,
            490,
            20,
            790,
            150
           ]
          },
          {
           "label": "shots",
           "values": [
            460,
            420,
            630,
            430,
            370,
            240,
            420,
            600,
            130,
            250,
            440,
            850,
            240,
            260,
            320,
            520,
            640,
            410,
            790,
            250
           ]
          },
          {
           "label": "Full Entanglement",
           "values": [
            0,
            0,
            0,
            1,
            0,
            0,
            0,
            1,
            0,
            0,
            0,
            1,
            0,
            0,
            0,
            1,
            1,
            1,
            1,
            1
           ]
          },
          {
           "label": "accuracy",
           "values": [
            0.6100000000000001,
            0.55,
            0.5800000000000001,
            0.7699999999999999,
            0.5700000000000001,
            0.48,
            0.54,
            0.9199999999999999,
            0.53,
            0.7,
            0.5900000000000001,
            0.76,
            0.6599999999999999,
            0.42000000000000004,
            0.47000000000000003,
            0.6,
            0.76,
            0.5599999999999999,
            0.59,
            0.74
           ]
          }
         ],
         "domain": {
          "x": [
           0,
           1
          ],
          "y": [
           0,
           1
          ]
         },
         "line": {
          "color": [
           0.6100000000000001,
           0.55,
           0.5800000000000001,
           0.7699999999999999,
           0.5700000000000001,
           0.48,
           0.54,
           0.9199999999999999,
           0.53,
           0.7,
           0.5900000000000001,
           0.76,
           0.6599999999999999,
           0.42000000000000004,
           0.47000000000000003,
           0.6,
           0.76,
           0.5599999999999999,
           0.59,
           0.74
          ],
          "coloraxis": "coloraxis"
         },
         "name": "",
         "type": "parcoords"
        }
       ],
       "layout": {
        "annotations": [
         {
          "font": {
           "color": "black",
           "family": "Arial",
           "size": 12
          },
          "showarrow": false,
          "text": "linear Entanglement",
          "x": 0.83,
          "xref": "paper",
          "y": -0.15,
          "yref": "paper"
         }
        ],
        "coloraxis": {
         "colorbar": {
          "title": {
           "text": "accuracy"
          }
         },
         "colorscale": [
          [
           0,
           "#0d0887"
          ],
          [
           0.1111111111111111,
           "#46039f"
          ],
          [
           0.2222222222222222,
           "#7201a8"
          ],
          [
           0.3333333333333333,
           "#9c179e"
          ],
          [
           0.4444444444444444,
           "#bd3786"
          ],
          [
           0.5555555555555556,
           "#d8576b"
          ],
          [
           0.6666666666666666,
           "#ed7953"
          ],
          [
           0.7777777777777778,
           "#fb9f3a"
          ],
          [
           0.8888888888888888,
           "#fdca26"
          ],
          [
           1,
           "#f0f921"
          ]
         ]
        },
        "legend": {
         "tracegroupgap": 0
        },
        "margin": {
         "t": 60
        },
        "template": {
         "data": {
          "bar": [
           {
            "error_x": {
             "color": "#2a3f5f"
            },
            "error_y": {
             "color": "#2a3f5f"
            },
            "marker": {
             "line": {
              "color": "#E5ECF6",
              "width": 0.5
             },
             "pattern": {
              "fillmode": "overlay",
              "size": 10,
              "solidity": 0.2
             }
            },
            "type": "bar"
           }
          ],
          "barpolar": [
           {
            "marker": {
             "line": {
              "color": "#E5ECF6",
              "width": 0.5
             },
             "pattern": {
              "fillmode": "overlay",
              "size": 10,
              "solidity": 0.2
             }
            },
            "type": "barpolar"
           }
          ],
          "carpet": [
           {
            "aaxis": {
             "endlinecolor": "#2a3f5f",
             "gridcolor": "white",
             "linecolor": "white",
             "minorgridcolor": "white",
             "startlinecolor": "#2a3f5f"
            },
            "baxis": {
             "endlinecolor": "#2a3f5f",
             "gridcolor": "white",
             "linecolor": "white",
             "minorgridcolor": "white",
             "startlinecolor": "#2a3f5f"
            },
            "type": "carpet"
           }
          ],
          "choropleth": [
           {
            "colorbar": {
             "outlinewidth": 0,
             "ticks": ""
            },
            "type": "choropleth"
           }
          ],
          "contour": [
           {
            "colorbar": {
             "outlinewidth": 0,
             "ticks": ""
            },
            "colorscale": [
             [
              0,
              "#0d0887"
             ],
             [
              0.1111111111111111,
              "#46039f"
             ],
             [
              0.2222222222222222,
              "#7201a8"
             ],
             [
              0.3333333333333333,
              "#9c179e"
             ],
             [
              0.4444444444444444,
              "#bd3786"
             ],
             [
              0.5555555555555556,
              "#d8576b"
             ],
             [
              0.6666666666666666,
              "#ed7953"
             ],
             [
              0.7777777777777778,
              "#fb9f3a"
             ],
             [
              0.8888888888888888,
              "#fdca26"
             ],
             [
              1,
              "#f0f921"
             ]
            ],
            "type": "contour"
           }
          ],
          "contourcarpet": [
           {
            "colorbar": {
             "outlinewidth": 0,
             "ticks": ""
            },
            "type": "contourcarpet"
           }
          ],
          "heatmap": [
           {
            "colorbar": {
             "outlinewidth": 0,
             "ticks": ""
            },
            "colorscale": [
             [
              0,
              "#0d0887"
             ],
             [
              0.1111111111111111,
              "#46039f"
             ],
             [
              0.2222222222222222,
              "#7201a8"
             ],
             [
              0.3333333333333333,
              "#9c179e"
             ],
             [
              0.4444444444444444,
              "#bd3786"
             ],
             [
              0.5555555555555556,
              "#d8576b"
             ],
             [
              0.6666666666666666,
              "#ed7953"
             ],
             [
              0.7777777777777778,
              "#fb9f3a"
             ],
             [
              0.8888888888888888,
              "#fdca26"
             ],
             [
              1,
              "#f0f921"
             ]
            ],
            "type": "heatmap"
           }
          ],
          "heatmapgl": [
           {
            "colorbar": {
             "outlinewidth": 0,
             "ticks": ""
            },
            "colorscale": [
             [
              0,
              "#0d0887"
             ],
             [
              0.1111111111111111,
              "#46039f"
             ],
             [
              0.2222222222222222,
              "#7201a8"
             ],
             [
              0.3333333333333333,
              "#9c179e"
             ],
             [
              0.4444444444444444,
              "#bd3786"
             ],
             [
              0.5555555555555556,
              "#d8576b"
             ],
             [
              0.6666666666666666,
              "#ed7953"
             ],
             [
              0.7777777777777778,
              "#fb9f3a"
             ],
             [
              0.8888888888888888,
              "#fdca26"
             ],
             [
              1,
              "#f0f921"
             ]
            ],
            "type": "heatmapgl"
           }
          ],
          "histogram": [
           {
            "marker": {
             "pattern": {
              "fillmode": "overlay",
              "size": 10,
              "solidity": 0.2
             }
            },
            "type": "histogram"
           }
          ],
          "histogram2d": [
           {
            "colorbar": {
             "outlinewidth": 0,
             "ticks": ""
            },
            "colorscale": [
             [
              0,
              "#0d0887"
             ],
             [
              0.1111111111111111,
              "#46039f"
             ],
             [
              0.2222222222222222,
              "#7201a8"
             ],
             [
              0.3333333333333333,
              "#9c179e"
             ],
             [
              0.4444444444444444,
              "#bd3786"
             ],
             [
              0.5555555555555556,
              "#d8576b"
             ],
             [
              0.6666666666666666,
              "#ed7953"
             ],
             [
              0.7777777777777778,
              "#fb9f3a"
             ],
             [
              0.8888888888888888,
              "#fdca26"
             ],
             [
              1,
              "#f0f921"
             ]
            ],
            "type": "histogram2d"
           }
          ],
          "histogram2dcontour": [
           {
            "colorbar": {
             "outlinewidth": 0,
             "ticks": ""
            },
            "colorscale": [
             [
              0,
              "#0d0887"
             ],
             [
              0.1111111111111111,
              "#46039f"
             ],
             [
              0.2222222222222222,
              "#7201a8"
             ],
             [
              0.3333333333333333,
              "#9c179e"
             ],
             [
              0.4444444444444444,
              "#bd3786"
             ],
             [
              0.5555555555555556,
              "#d8576b"
             ],
             [
              0.6666666666666666,
              "#ed7953"
             ],
             [
              0.7777777777777778,
              "#fb9f3a"
             ],
             [
              0.8888888888888888,
              "#fdca26"
             ],
             [
              1,
              "#f0f921"
             ]
            ],
            "type": "histogram2dcontour"
           }
          ],
          "mesh3d": [
           {
            "colorbar": {
             "outlinewidth": 0,
             "ticks": ""
            },
            "type": "mesh3d"
           }
          ],
          "parcoords": [
           {
            "line": {
             "colorbar": {
              "outlinewidth": 0,
              "ticks": ""
             }
            },
            "type": "parcoords"
           }
          ],
          "pie": [
           {
            "automargin": true,
            "type": "pie"
           }
          ],
          "scatter": [
           {
            "fillpattern": {
             "fillmode": "overlay",
             "size": 10,
             "solidity": 0.2
            },
            "type": "scatter"
           }
          ],
          "scatter3d": [
           {
            "line": {
             "colorbar": {
              "outlinewidth": 0,
              "ticks": ""
             }
            },
            "marker": {
             "colorbar": {
              "outlinewidth": 0,
              "ticks": ""
             }
            },
            "type": "scatter3d"
           }
          ],
          "scattercarpet": [
           {
            "marker": {
             "colorbar": {
              "outlinewidth": 0,
              "ticks": ""
             }
            },
            "type": "scattercarpet"
           }
          ],
          "scattergeo": [
           {
            "marker": {
             "colorbar": {
              "outlinewidth": 0,
              "ticks": ""
             }
            },
            "type": "scattergeo"
           }
          ],
          "scattergl": [
           {
            "marker": {
             "colorbar": {
              "outlinewidth": 0,
              "ticks": ""
             }
            },
            "type": "scattergl"
           }
          ],
          "scattermapbox": [
           {
            "marker": {
             "colorbar": {
              "outlinewidth": 0,
              "ticks": ""
             }
            },
            "type": "scattermapbox"
           }
          ],
          "scatterpolar": [
           {
            "marker": {
             "colorbar": {
              "outlinewidth": 0,
              "ticks": ""
             }
            },
            "type": "scatterpolar"
           }
          ],
          "scatterpolargl": [
           {
            "marker": {
             "colorbar": {
              "outlinewidth": 0,
              "ticks": ""
             }
            },
            "type": "scatterpolargl"
           }
          ],
          "scatterternary": [
           {
            "marker": {
             "colorbar": {
              "outlinewidth": 0,
              "ticks": ""
             }
            },
            "type": "scatterternary"
           }
          ],
          "surface": [
           {
            "colorbar": {
             "outlinewidth": 0,
             "ticks": ""
            },
            "colorscale": [
             [
              0,
              "#0d0887"
             ],
             [
              0.1111111111111111,
              "#46039f"
             ],
             [
              0.2222222222222222,
              "#7201a8"
             ],
             [
              0.3333333333333333,
              "#9c179e"
             ],
             [
              0.4444444444444444,
              "#bd3786"
             ],
             [
              0.5555555555555556,
              "#d8576b"
             ],
             [
              0.6666666666666666,
              "#ed7953"
             ],
             [
              0.7777777777777778,
              "#fb9f3a"
             ],
             [
              0.8888888888888888,
              "#fdca26"
             ],
             [
              1,
              "#f0f921"
             ]
            ],
            "type": "surface"
           }
          ],
          "table": [
           {
            "cells": {
             "fill": {
              "color": "#EBF0F8"
             },
             "line": {
              "color": "white"
             }
            },
            "header": {
             "fill": {
              "color": "#C8D4E3"
             },
             "line": {
              "color": "white"
             }
            },
            "type": "table"
           }
          ]
         },
         "layout": {
          "annotationdefaults": {
           "arrowcolor": "#2a3f5f",
           "arrowhead": 0,
           "arrowwidth": 1
          },
          "autotypenumbers": "strict",
          "coloraxis": {
           "colorbar": {
            "outlinewidth": 0,
            "ticks": ""
           }
          },
          "colorscale": {
           "diverging": [
            [
             0,
             "#8e0152"
            ],
            [
             0.1,
             "#c51b7d"
            ],
            [
             0.2,
             "#de77ae"
            ],
            [
             0.3,
             "#f1b6da"
            ],
            [
             0.4,
             "#fde0ef"
            ],
            [
             0.5,
             "#f7f7f7"
            ],
            [
             0.6,
             "#e6f5d0"
            ],
            [
             0.7,
             "#b8e186"
            ],
            [
             0.8,
             "#7fbc41"
            ],
            [
             0.9,
             "#4d9221"
            ],
            [
             1,
             "#276419"
            ]
           ],
           "sequential": [
            [
             0,
             "#0d0887"
            ],
            [
             0.1111111111111111,
             "#46039f"
            ],
            [
             0.2222222222222222,
             "#7201a8"
            ],
            [
             0.3333333333333333,
             "#9c179e"
            ],
            [
             0.4444444444444444,
             "#bd3786"
            ],
            [
             0.5555555555555556,
             "#d8576b"
            ],
            [
             0.6666666666666666,
             "#ed7953"
            ],
            [
             0.7777777777777778,
             "#fb9f3a"
            ],
            [
             0.8888888888888888,
             "#fdca26"
            ],
            [
             1,
             "#f0f921"
            ]
           ],
           "sequentialminus": [
            [
             0,
             "#0d0887"
            ],
            [
             0.1111111111111111,
             "#46039f"
            ],
            [
             0.2222222222222222,
             "#7201a8"
            ],
            [
             0.3333333333333333,
             "#9c179e"
            ],
            [
             0.4444444444444444,
             "#bd3786"
            ],
            [
             0.5555555555555556,
             "#d8576b"
            ],
            [
             0.6666666666666666,
             "#ed7953"
            ],
            [
             0.7777777777777778,
             "#fb9f3a"
            ],
            [
             0.8888888888888888,
             "#fdca26"
            ],
            [
             1,
             "#f0f921"
            ]
           ]
          },
          "colorway": [
           "#636efa",
           "#EF553B",
           "#00cc96",
           "#ab63fa",
           "#FFA15A",
           "#19d3f3",
           "#FF6692",
           "#B6E880",
           "#FF97FF",
           "#FECB52"
          ],
          "font": {
           "color": "#2a3f5f"
          },
          "geo": {
           "bgcolor": "white",
           "lakecolor": "white",
           "landcolor": "#E5ECF6",
           "showlakes": true,
           "showland": true,
           "subunitcolor": "white"
          },
          "hoverlabel": {
           "align": "left"
          },
          "hovermode": "closest",
          "mapbox": {
           "style": "light"
          },
          "paper_bgcolor": "white",
          "plot_bgcolor": "#E5ECF6",
          "polar": {
           "angularaxis": {
            "gridcolor": "white",
            "linecolor": "white",
            "ticks": ""
           },
           "bgcolor": "#E5ECF6",
           "radialaxis": {
            "gridcolor": "white",
            "linecolor": "white",
            "ticks": ""
           }
          },
          "scene": {
           "xaxis": {
            "backgroundcolor": "#E5ECF6",
            "gridcolor": "white",
            "gridwidth": 2,
            "linecolor": "white",
            "showbackground": true,
            "ticks": "",
            "zerolinecolor": "white"
           },
           "yaxis": {
            "backgroundcolor": "#E5ECF6",
            "gridcolor": "white",
            "gridwidth": 2,
            "linecolor": "white",
            "showbackground": true,
            "ticks": "",
            "zerolinecolor": "white"
           },
           "zaxis": {
            "backgroundcolor": "#E5ECF6",
            "gridcolor": "white",
            "gridwidth": 2,
            "linecolor": "white",
            "showbackground": true,
            "ticks": "",
            "zerolinecolor": "white"
           }
          },
          "shapedefaults": {
           "line": {
            "color": "#2a3f5f"
           }
          },
          "ternary": {
           "aaxis": {
            "gridcolor": "white",
            "linecolor": "white",
            "ticks": ""
           },
           "baxis": {
            "gridcolor": "white",
            "linecolor": "white",
            "ticks": ""
           },
           "bgcolor": "#E5ECF6",
           "caxis": {
            "gridcolor": "white",
            "linecolor": "white",
            "ticks": ""
           }
          },
          "title": {
           "x": 0.05
          },
          "xaxis": {
           "automargin": true,
           "gridcolor": "white",
           "linecolor": "white",
           "ticks": "",
           "title": {
            "standoff": 15
           },
           "zerolinecolor": "white",
           "zerolinewidth": 2
          },
          "yaxis": {
           "automargin": true,
           "gridcolor": "white",
           "linecolor": "white",
           "ticks": "",
           "title": {
            "standoff": 15
           },
           "zerolinecolor": "white",
           "zerolinewidth": 2
          }
         }
        },
        "title": {
         "text": "Hyperparameter Optimization VS Accuracy"
        }
       }
      }
     },
     "metadata": {},
     "output_type": "display_data"
    }
   ],
   "source": [
    "# Draw the parallel coordinates plot based on the trials information.\n",
    "draw_parallel_coordinates(trials_info)"
   ]
  },
  {
   "cell_type": "markdown",
   "metadata": {},
   "source": [
    "### Graph outcomes:\n",
    "- The parameter Entanglement is highly effective in the accuracy of the model that can be shown obviously form the \"Full entanglement\" contribution in the high accuracy trails.\n",
    "\n",
    "- The high accuracy came from values of \"shots\" relatively high from 350 to 850 so the more you repeat the measurement the higher the accuracy.\n",
    "- The surprising note about this graph that \"C\" has no significant effect in the accuracy of the results, the optimized values of the c are found in a large spectrum from 50 to 750 and it share the high and low accuracy values.\n",
    "- The representation parameter is inversely affecting the accuracy most of the high accuracy trails happened when rep was from 2 to 3 indicates that the lighter models were more accurate."
   ]
  },
  {
   "cell_type": "markdown",
   "metadata": {},
   "source": [
    ".\n",
    "\n",
    "\n",
    "\n",
    "\n",
    "\n",
    "\n",
    "."
   ]
  },
  {
   "cell_type": "markdown",
   "metadata": {},
   "source": [
    "### Visualize and tracing the history of the accuracy vs the trails and mark the best values on the run"
   ]
  },
  {
   "cell_type": "code",
   "execution_count": 171,
   "metadata": {},
   "outputs": [],
   "source": [
    "def Trails_history(trials_info: list, n: int):\n",
    "    \"\"\"\n",
    "    Plot the object value and best value against the number of trials.\n",
    "\n",
    "    Args:\n",
    "    trials_info (list): List of dictionaries containing information about each trial.\n",
    "    n (int): Number of trials.\n",
    "\n",
    "    Returns:\n",
    "    None\n",
    "    \"\"\"\n",
    "    import plotly.graph_objects as go\n",
    "    import numpy as np\n",
    "\n",
    "    accuracies = []\n",
    "\n",
    "    # Extract accuracies from trials_info\n",
    "    for trial in trials_info:\n",
    "        accuracies.append(trial['accuracy'])\n",
    "\n",
    "    # Find the best values during the trials\n",
    "    best_values = []\n",
    "    initial = 0\n",
    "    for i in accuracies:\n",
    "        if i > initial:\n",
    "            best_values.append(i)\n",
    "            initial = i\n",
    "        else:\n",
    "            best_values.append(best_values[-1])\n",
    "\n",
    "    trial_numbers = np.arange(1, (n + 1))\n",
    "\n",
    "    # Create traces for both lines\n",
    "    trace1 = go.Scatter(x=trial_numbers, y=best_values, mode='lines', name='best value')\n",
    "    trace2 = go.Scatter(x=trial_numbers, y=accuracies, mode='markers', name='object value')\n",
    "\n",
    "    # Create the layout\n",
    "    layout = go.Layout(title='Object value  vs. Trials',\n",
    "                       xaxis=dict(title='Trials'),\n",
    "                       yaxis=dict(title='Object value (Accuracy)'))\n",
    "\n",
    "    # Create the figure and add both traces\n",
    "    fig = go.Figure(data=[trace1, trace2], layout=layout)\n",
    "\n",
    "    # Show the plot\n",
    "    fig.show()\n"
   ]
  },
  {
   "cell_type": "code",
   "execution_count": 172,
   "metadata": {},
   "outputs": [
    {
     "data": {
      "application/vnd.plotly.v1+json": {
       "config": {
        "plotlyServerURL": "https://plot.ly"
       },
       "data": [
        {
         "mode": "lines",
         "name": "best value",
         "type": "scatter",
         "x": [
          1,
          2,
          3,
          4,
          5,
          6,
          7,
          8,
          9,
          10,
          11,
          12,
          13,
          14,
          15,
          16,
          17,
          18,
          19,
          20
         ],
         "y": [
          0.6100000000000001,
          0.6100000000000001,
          0.6100000000000001,
          0.7699999999999999,
          0.7699999999999999,
          0.7699999999999999,
          0.7699999999999999,
          0.9199999999999999,
          0.9199999999999999,
          0.9199999999999999,
          0.9199999999999999,
          0.9199999999999999,
          0.9199999999999999,
          0.9199999999999999,
          0.9199999999999999,
          0.9199999999999999,
          0.9199999999999999,
          0.9199999999999999,
          0.9199999999999999,
          0.9199999999999999
         ]
        },
        {
         "mode": "markers",
         "name": "object value",
         "type": "scatter",
         "x": [
          1,
          2,
          3,
          4,
          5,
          6,
          7,
          8,
          9,
          10,
          11,
          12,
          13,
          14,
          15,
          16,
          17,
          18,
          19,
          20
         ],
         "y": [
          0.6100000000000001,
          0.55,
          0.5800000000000001,
          0.7699999999999999,
          0.5700000000000001,
          0.48,
          0.54,
          0.9199999999999999,
          0.53,
          0.7,
          0.5900000000000001,
          0.76,
          0.6599999999999999,
          0.42000000000000004,
          0.47000000000000003,
          0.6,
          0.76,
          0.5599999999999999,
          0.59,
          0.74
         ]
        }
       ],
       "layout": {
        "template": {
         "data": {
          "bar": [
           {
            "error_x": {
             "color": "#2a3f5f"
            },
            "error_y": {
             "color": "#2a3f5f"
            },
            "marker": {
             "line": {
              "color": "#E5ECF6",
              "width": 0.5
             },
             "pattern": {
              "fillmode": "overlay",
              "size": 10,
              "solidity": 0.2
             }
            },
            "type": "bar"
           }
          ],
          "barpolar": [
           {
            "marker": {
             "line": {
              "color": "#E5ECF6",
              "width": 0.5
             },
             "pattern": {
              "fillmode": "overlay",
              "size": 10,
              "solidity": 0.2
             }
            },
            "type": "barpolar"
           }
          ],
          "carpet": [
           {
            "aaxis": {
             "endlinecolor": "#2a3f5f",
             "gridcolor": "white",
             "linecolor": "white",
             "minorgridcolor": "white",
             "startlinecolor": "#2a3f5f"
            },
            "baxis": {
             "endlinecolor": "#2a3f5f",
             "gridcolor": "white",
             "linecolor": "white",
             "minorgridcolor": "white",
             "startlinecolor": "#2a3f5f"
            },
            "type": "carpet"
           }
          ],
          "choropleth": [
           {
            "colorbar": {
             "outlinewidth": 0,
             "ticks": ""
            },
            "type": "choropleth"
           }
          ],
          "contour": [
           {
            "colorbar": {
             "outlinewidth": 0,
             "ticks": ""
            },
            "colorscale": [
             [
              0,
              "#0d0887"
             ],
             [
              0.1111111111111111,
              "#46039f"
             ],
             [
              0.2222222222222222,
              "#7201a8"
             ],
             [
              0.3333333333333333,
              "#9c179e"
             ],
             [
              0.4444444444444444,
              "#bd3786"
             ],
             [
              0.5555555555555556,
              "#d8576b"
             ],
             [
              0.6666666666666666,
              "#ed7953"
             ],
             [
              0.7777777777777778,
              "#fb9f3a"
             ],
             [
              0.8888888888888888,
              "#fdca26"
             ],
             [
              1,
              "#f0f921"
             ]
            ],
            "type": "contour"
           }
          ],
          "contourcarpet": [
           {
            "colorbar": {
             "outlinewidth": 0,
             "ticks": ""
            },
            "type": "contourcarpet"
           }
          ],
          "heatmap": [
           {
            "colorbar": {
             "outlinewidth": 0,
             "ticks": ""
            },
            "colorscale": [
             [
              0,
              "#0d0887"
             ],
             [
              0.1111111111111111,
              "#46039f"
             ],
             [
              0.2222222222222222,
              "#7201a8"
             ],
             [
              0.3333333333333333,
              "#9c179e"
             ],
             [
              0.4444444444444444,
              "#bd3786"
             ],
             [
              0.5555555555555556,
              "#d8576b"
             ],
             [
              0.6666666666666666,
              "#ed7953"
             ],
             [
              0.7777777777777778,
              "#fb9f3a"
             ],
             [
              0.8888888888888888,
              "#fdca26"
             ],
             [
              1,
              "#f0f921"
             ]
            ],
            "type": "heatmap"
           }
          ],
          "heatmapgl": [
           {
            "colorbar": {
             "outlinewidth": 0,
             "ticks": ""
            },
            "colorscale": [
             [
              0,
              "#0d0887"
             ],
             [
              0.1111111111111111,
              "#46039f"
             ],
             [
              0.2222222222222222,
              "#7201a8"
             ],
             [
              0.3333333333333333,
              "#9c179e"
             ],
             [
              0.4444444444444444,
              "#bd3786"
             ],
             [
              0.5555555555555556,
              "#d8576b"
             ],
             [
              0.6666666666666666,
              "#ed7953"
             ],
             [
              0.7777777777777778,
              "#fb9f3a"
             ],
             [
              0.8888888888888888,
              "#fdca26"
             ],
             [
              1,
              "#f0f921"
             ]
            ],
            "type": "heatmapgl"
           }
          ],
          "histogram": [
           {
            "marker": {
             "pattern": {
              "fillmode": "overlay",
              "size": 10,
              "solidity": 0.2
             }
            },
            "type": "histogram"
           }
          ],
          "histogram2d": [
           {
            "colorbar": {
             "outlinewidth": 0,
             "ticks": ""
            },
            "colorscale": [
             [
              0,
              "#0d0887"
             ],
             [
              0.1111111111111111,
              "#46039f"
             ],
             [
              0.2222222222222222,
              "#7201a8"
             ],
             [
              0.3333333333333333,
              "#9c179e"
             ],
             [
              0.4444444444444444,
              "#bd3786"
             ],
             [
              0.5555555555555556,
              "#d8576b"
             ],
             [
              0.6666666666666666,
              "#ed7953"
             ],
             [
              0.7777777777777778,
              "#fb9f3a"
             ],
             [
              0.8888888888888888,
              "#fdca26"
             ],
             [
              1,
              "#f0f921"
             ]
            ],
            "type": "histogram2d"
           }
          ],
          "histogram2dcontour": [
           {
            "colorbar": {
             "outlinewidth": 0,
             "ticks": ""
            },
            "colorscale": [
             [
              0,
              "#0d0887"
             ],
             [
              0.1111111111111111,
              "#46039f"
             ],
             [
              0.2222222222222222,
              "#7201a8"
             ],
             [
              0.3333333333333333,
              "#9c179e"
             ],
             [
              0.4444444444444444,
              "#bd3786"
             ],
             [
              0.5555555555555556,
              "#d8576b"
             ],
             [
              0.6666666666666666,
              "#ed7953"
             ],
             [
              0.7777777777777778,
              "#fb9f3a"
             ],
             [
              0.8888888888888888,
              "#fdca26"
             ],
             [
              1,
              "#f0f921"
             ]
            ],
            "type": "histogram2dcontour"
           }
          ],
          "mesh3d": [
           {
            "colorbar": {
             "outlinewidth": 0,
             "ticks": ""
            },
            "type": "mesh3d"
           }
          ],
          "parcoords": [
           {
            "line": {
             "colorbar": {
              "outlinewidth": 0,
              "ticks": ""
             }
            },
            "type": "parcoords"
           }
          ],
          "pie": [
           {
            "automargin": true,
            "type": "pie"
           }
          ],
          "scatter": [
           {
            "fillpattern": {
             "fillmode": "overlay",
             "size": 10,
             "solidity": 0.2
            },
            "type": "scatter"
           }
          ],
          "scatter3d": [
           {
            "line": {
             "colorbar": {
              "outlinewidth": 0,
              "ticks": ""
             }
            },
            "marker": {
             "colorbar": {
              "outlinewidth": 0,
              "ticks": ""
             }
            },
            "type": "scatter3d"
           }
          ],
          "scattercarpet": [
           {
            "marker": {
             "colorbar": {
              "outlinewidth": 0,
              "ticks": ""
             }
            },
            "type": "scattercarpet"
           }
          ],
          "scattergeo": [
           {
            "marker": {
             "colorbar": {
              "outlinewidth": 0,
              "ticks": ""
             }
            },
            "type": "scattergeo"
           }
          ],
          "scattergl": [
           {
            "marker": {
             "colorbar": {
              "outlinewidth": 0,
              "ticks": ""
             }
            },
            "type": "scattergl"
           }
          ],
          "scattermapbox": [
           {
            "marker": {
             "colorbar": {
              "outlinewidth": 0,
              "ticks": ""
             }
            },
            "type": "scattermapbox"
           }
          ],
          "scatterpolar": [
           {
            "marker": {
             "colorbar": {
              "outlinewidth": 0,
              "ticks": ""
             }
            },
            "type": "scatterpolar"
           }
          ],
          "scatterpolargl": [
           {
            "marker": {
             "colorbar": {
              "outlinewidth": 0,
              "ticks": ""
             }
            },
            "type": "scatterpolargl"
           }
          ],
          "scatterternary": [
           {
            "marker": {
             "colorbar": {
              "outlinewidth": 0,
              "ticks": ""
             }
            },
            "type": "scatterternary"
           }
          ],
          "surface": [
           {
            "colorbar": {
             "outlinewidth": 0,
             "ticks": ""
            },
            "colorscale": [
             [
              0,
              "#0d0887"
             ],
             [
              0.1111111111111111,
              "#46039f"
             ],
             [
              0.2222222222222222,
              "#7201a8"
             ],
             [
              0.3333333333333333,
              "#9c179e"
             ],
             [
              0.4444444444444444,
              "#bd3786"
             ],
             [
              0.5555555555555556,
              "#d8576b"
             ],
             [
              0.6666666666666666,
              "#ed7953"
             ],
             [
              0.7777777777777778,
              "#fb9f3a"
             ],
             [
              0.8888888888888888,
              "#fdca26"
             ],
             [
              1,
              "#f0f921"
             ]
            ],
            "type": "surface"
           }
          ],
          "table": [
           {
            "cells": {
             "fill": {
              "color": "#EBF0F8"
             },
             "line": {
              "color": "white"
             }
            },
            "header": {
             "fill": {
              "color": "#C8D4E3"
             },
             "line": {
              "color": "white"
             }
            },
            "type": "table"
           }
          ]
         },
         "layout": {
          "annotationdefaults": {
           "arrowcolor": "#2a3f5f",
           "arrowhead": 0,
           "arrowwidth": 1
          },
          "autotypenumbers": "strict",
          "coloraxis": {
           "colorbar": {
            "outlinewidth": 0,
            "ticks": ""
           }
          },
          "colorscale": {
           "diverging": [
            [
             0,
             "#8e0152"
            ],
            [
             0.1,
             "#c51b7d"
            ],
            [
             0.2,
             "#de77ae"
            ],
            [
             0.3,
             "#f1b6da"
            ],
            [
             0.4,
             "#fde0ef"
            ],
            [
             0.5,
             "#f7f7f7"
            ],
            [
             0.6,
             "#e6f5d0"
            ],
            [
             0.7,
             "#b8e186"
            ],
            [
             0.8,
             "#7fbc41"
            ],
            [
             0.9,
             "#4d9221"
            ],
            [
             1,
             "#276419"
            ]
           ],
           "sequential": [
            [
             0,
             "#0d0887"
            ],
            [
             0.1111111111111111,
             "#46039f"
            ],
            [
             0.2222222222222222,
             "#7201a8"
            ],
            [
             0.3333333333333333,
             "#9c179e"
            ],
            [
             0.4444444444444444,
             "#bd3786"
            ],
            [
             0.5555555555555556,
             "#d8576b"
            ],
            [
             0.6666666666666666,
             "#ed7953"
            ],
            [
             0.7777777777777778,
             "#fb9f3a"
            ],
            [
             0.8888888888888888,
             "#fdca26"
            ],
            [
             1,
             "#f0f921"
            ]
           ],
           "sequentialminus": [
            [
             0,
             "#0d0887"
            ],
            [
             0.1111111111111111,
             "#46039f"
            ],
            [
             0.2222222222222222,
             "#7201a8"
            ],
            [
             0.3333333333333333,
             "#9c179e"
            ],
            [
             0.4444444444444444,
             "#bd3786"
            ],
            [
             0.5555555555555556,
             "#d8576b"
            ],
            [
             0.6666666666666666,
             "#ed7953"
            ],
            [
             0.7777777777777778,
             "#fb9f3a"
            ],
            [
             0.8888888888888888,
             "#fdca26"
            ],
            [
             1,
             "#f0f921"
            ]
           ]
          },
          "colorway": [
           "#636efa",
           "#EF553B",
           "#00cc96",
           "#ab63fa",
           "#FFA15A",
           "#19d3f3",
           "#FF6692",
           "#B6E880",
           "#FF97FF",
           "#FECB52"
          ],
          "font": {
           "color": "#2a3f5f"
          },
          "geo": {
           "bgcolor": "white",
           "lakecolor": "white",
           "landcolor": "#E5ECF6",
           "showlakes": true,
           "showland": true,
           "subunitcolor": "white"
          },
          "hoverlabel": {
           "align": "left"
          },
          "hovermode": "closest",
          "mapbox": {
           "style": "light"
          },
          "paper_bgcolor": "white",
          "plot_bgcolor": "#E5ECF6",
          "polar": {
           "angularaxis": {
            "gridcolor": "white",
            "linecolor": "white",
            "ticks": ""
           },
           "bgcolor": "#E5ECF6",
           "radialaxis": {
            "gridcolor": "white",
            "linecolor": "white",
            "ticks": ""
           }
          },
          "scene": {
           "xaxis": {
            "backgroundcolor": "#E5ECF6",
            "gridcolor": "white",
            "gridwidth": 2,
            "linecolor": "white",
            "showbackground": true,
            "ticks": "",
            "zerolinecolor": "white"
           },
           "yaxis": {
            "backgroundcolor": "#E5ECF6",
            "gridcolor": "white",
            "gridwidth": 2,
            "linecolor": "white",
            "showbackground": true,
            "ticks": "",
            "zerolinecolor": "white"
           },
           "zaxis": {
            "backgroundcolor": "#E5ECF6",
            "gridcolor": "white",
            "gridwidth": 2,
            "linecolor": "white",
            "showbackground": true,
            "ticks": "",
            "zerolinecolor": "white"
           }
          },
          "shapedefaults": {
           "line": {
            "color": "#2a3f5f"
           }
          },
          "ternary": {
           "aaxis": {
            "gridcolor": "white",
            "linecolor": "white",
            "ticks": ""
           },
           "baxis": {
            "gridcolor": "white",
            "linecolor": "white",
            "ticks": ""
           },
           "bgcolor": "#E5ECF6",
           "caxis": {
            "gridcolor": "white",
            "linecolor": "white",
            "ticks": ""
           }
          },
          "title": {
           "x": 0.05
          },
          "xaxis": {
           "automargin": true,
           "gridcolor": "white",
           "linecolor": "white",
           "ticks": "",
           "title": {
            "standoff": 15
           },
           "zerolinecolor": "white",
           "zerolinewidth": 2
          },
          "yaxis": {
           "automargin": true,
           "gridcolor": "white",
           "linecolor": "white",
           "ticks": "",
           "title": {
            "standoff": 15
           },
           "zerolinecolor": "white",
           "zerolinewidth": 2
          }
         }
        },
        "title": {
         "text": "Object value  vs. Trials"
        },
        "xaxis": {
         "title": {
          "text": "Trials"
         }
        },
        "yaxis": {
         "title": {
          "text": "Object value (Accuracy)"
         }
        }
       }
      }
     },
     "metadata": {},
     "output_type": "display_data"
    }
   ],
   "source": [
    "# Draw the history plot based on the trials information and the number of trials.\n",
    "Trails_history(trials_info,20)"
   ]
  },
  {
   "cell_type": "markdown",
   "metadata": {},
   "source": [
    "### Graph outcomes:\n",
    "- The red dots indicate the trails carried out to optimize this model.\n",
    "\n",
    "- The blue line indicates the highest accuracy found so far in the trail.\n",
    "- It is noticeable that the optimizer found the optimum values of the model just after 8 trails which represents the strength of the \"hyperopt\" optimizer and the TPE algorithm.\n",
    "- Despite the fast finding of the optimum values the rest of the trails are in lack of accuracy."
   ]
  }
 ],
 "metadata": {
  "kernelspec": {
   "display_name": "Python 3",
   "language": "python",
   "name": "python3"
  },
  "language_info": {
   "codemirror_mode": {
    "name": "ipython",
    "version": 3
   },
   "file_extension": ".py",
   "mimetype": "text/x-python",
   "name": "python",
   "nbconvert_exporter": "python",
   "pygments_lexer": "ipython3",
   "version": "3.11.9"
  }
 },
 "nbformat": 4,
 "nbformat_minor": 2
}
